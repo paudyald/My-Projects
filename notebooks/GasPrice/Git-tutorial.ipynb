{
 "cells": [
  {
   "cell_type": "markdown",
   "metadata": {},
   "source": [
    "# Git and Github Tutorial"
   ]
  },
  {
   "cell_type": "markdown",
   "metadata": {},
   "source": [
    "## Introduction to Git ang Github"
   ]
  },
  {
   "cell_type": "markdown",
   "metadata": {},
   "source": [
    "Git is a version control system that is used to manage and track source code during software development. It's a local tool you will have to download in your local Computer.  It allows people to coordinate their work/projects among programmers or collaborators and track changes in any set of files. \n",
    "\n",
    "On the other hand github is a web based hosting and collboration  provider that allows your work to be stored in the cloud.  You can push your work from a local computer to web based github that allows collaborating among the collaborator. However, pushing to github is completely optional, you can decide not to, its a choice of a user. In addition, you can control what to push and how to control your remote repository using git from a local. \n",
    "\n",
    "Here, I am providing tutorial on how to maintain your work in a folder of a local  computer and push it to web based github if needed. "
   ]
  },
  {
   "cell_type": "markdown",
   "metadata": {},
   "source": [
    "##  Repository, Branches and Commits"
   ]
  },
  {
   "cell_type": "markdown",
   "metadata": {},
   "source": [
    "A repository is the name of a folder that contains all of the files and documents that are a part of projects, it is the most  basic element of GitHub. Users will have complete freedom to  make it  either a private or public."
   ]
  },
  {
   "cell_type": "markdown",
   "metadata": {},
   "source": [
    "A branch is a parallel version of a repository or a folder within the repositories  that diverges from the main working project. The default name of branch in a repository is called a master branch. Users can  create, list, rename and delete branches. Many operations on branches are applied by git checkout and git merge command. So, the git branch is tightly integrated with the git checkout and git merge commands."
   ]
  },
  {
   "cell_type": "markdown",
   "metadata": {},
   "source": [
    "A commit is an individual change  to a file inside a branch, it contains a commit message describing the changes made in the code or projects. When you make a commit to save your work, Git creates a unique ID (a.k.a. the \"SHA\" or \"hash\") that allows you to keep record of the specific changes commited along with who made them and when. "
   ]
  },
  {
   "cell_type": "markdown",
   "metadata": {},
   "source": [
    "## Work in progress............"
   ]
  },
  {
   "cell_type": "code",
   "execution_count": null,
   "metadata": {},
   "outputs": [],
   "source": []
  },
  {
   "cell_type": "code",
   "execution_count": null,
   "metadata": {},
   "outputs": [],
   "source": []
  },
  {
   "cell_type": "code",
   "execution_count": null,
   "metadata": {},
   "outputs": [],
   "source": []
  },
  {
   "cell_type": "markdown",
   "metadata": {},
   "source": [
    "## How to fork a Repository ?"
   ]
  },
  {
   "cell_type": "markdown",
   "metadata": {},
   "source": [
    "1.  Create an account in github\n",
    "2.  Fork the repositories you want  into your github account\n",
    "3.  Clone your remote repository onto the computer you're working on"
   ]
  },
  {
   "cell_type": "raw",
   "metadata": {},
   "source": [
    "git clone https://github.com/USER/name.git"
   ]
  },
  {
   "cell_type": "markdown",
   "metadata": {},
   "source": [
    "4. We can make a separate working branch, like a working branch name smind. Make sure you have a working branch identical (in the beginning) to your master branch."
   ]
  },
  {
   "cell_type": "raw",
   "metadata": {},
   "source": [
    "git checkout -b smind"
   ]
  },
  {
   "cell_type": "markdown",
   "metadata": {},
   "source": [
    "5. This is where I work and make all of my personal commits. you can push  your work by doing"
   ]
  },
  {
   "cell_type": "raw",
   "metadata": {},
   "source": [
    "git push -u origin smind"
   ]
  },
  {
   "cell_type": "markdown",
   "metadata": {},
   "source": [
    "6. We can now simply use "
   ]
  },
  {
   "cell_type": "raw",
   "metadata": {},
   "source": [
    "git push"
   ]
  },
  {
   "cell_type": "markdown",
   "metadata": {},
   "source": [
    "## How to publish your changes"
   ]
  },
  {
   "cell_type": "markdown",
   "metadata": {},
   "source": [
    "6. Assuming you are in the smind branch, you have to first create commits to publish something. The standard routing is as follows:  "
   ]
  },
  {
   "cell_type": "markdown",
   "metadata": {},
   "source": [
    "- Make sure to check the current file changes before adding changes. "
   ]
  },
  {
   "cell_type": "raw",
   "metadata": {},
   "source": [
    "git status"
   ]
  },
  {
   "cell_type": "markdown",
   "metadata": {},
   "source": [
    "- Please take care of untracked files and do not add binary or other “generated” files to the index.\n",
    "\n",
    "- The changes you want to commit have to be staged with"
   ]
  },
  {
   "cell_type": "raw",
   "metadata": {},
   "source": [
    "git add changed_files"
   ]
  },
  {
   "cell_type": "markdown",
   "metadata": {},
   "source": [
    "- The staged (added) files to commit are now shown with a"
   ]
  },
  {
   "cell_type": "raw",
   "metadata": {},
   "source": [
    "git status"
   ]
  },
  {
   "cell_type": "markdown",
   "metadata": {},
   "source": [
    "- If you added everything you want to commit, add this commit with a short message that describes your changes:"
   ]
  },
  {
   "cell_type": "markdown",
   "metadata": {},
   "source": [
    "Note: If you just type git commit it asks you for a commit message and some commented out lines telling you again what you're about to commit. Please use this message as an opportunity to describe your work. If in doubt, create more smaller commits than a single big one.\n",
    "\n"
   ]
  },
  {
   "cell_type": "markdown",
   "metadata": {},
   "source": [
    "- Repeat this procedure to add all your changes. To publish this changes, use"
   ]
  },
  {
   "cell_type": "raw",
   "metadata": {},
   "source": [
    "git push"
   ]
  },
  {
   "cell_type": "markdown",
   "metadata": {},
   "source": [
    "7. Note that whenever you want to switch between branches, uncommited changes may prevent you from doing so if they conflict. Sometimes these are simple changes that you don't want to commit (a change in directory name particular for that one system perhaps). This is where I find stashing to be useful"
   ]
  },
  {
   "cell_type": "raw",
   "metadata": {},
   "source": [
    "git stash"
   ]
  },
  {
   "cell_type": "markdown",
   "metadata": {},
   "source": [
    "which basically takes all uncommited changes and stashes them. They can be reapplied by"
   ]
  },
  {
   "cell_type": "raw",
   "metadata": {},
   "source": [
    "git stash pop"
   ]
  },
  {
   "cell_type": "markdown",
   "metadata": {},
   "source": [
    "or, if you want to keep the stash, use"
   ]
  },
  {
   "cell_type": "raw",
   "metadata": {},
   "source": [
    "git stash apply"
   ]
  },
  {
   "cell_type": "markdown",
   "metadata": {},
   "source": [
    "You can also have multiple stashes, and then apply the one you want."
   ]
  },
  {
   "cell_type": "markdown",
   "metadata": {},
   "source": [
    "## How to add a remote repository"
   ]
  },
  {
   "cell_type": "markdown",
   "metadata": {},
   "source": [
    "8. Add the remotes you want"
   ]
  },
  {
   "cell_type": "raw",
   "metadata": {},
   "source": [
    "git remote add name1 https://github.com/name/name2.git"
   ]
  },
  {
   "cell_type": "markdown",
   "metadata": {},
   "source": [
    "9. Keep your system up to date with remotes"
   ]
  },
  {
   "cell_type": "raw",
   "metadata": {},
   "source": [
    "git fetch --all"
   ]
  },
  {
   "cell_type": "markdown",
   "metadata": {},
   "source": [
    "You should see the branches, have a look at them by using "
   ]
  },
  {
   "cell_type": "raw",
   "metadata": {},
   "source": [
    "gitk --all"
   ]
  },
  {
   "cell_type": "markdown",
   "metadata": {},
   "source": [
    "10. In the event that a remote has a branch that you wish to use other than master (such as 'dilli'):"
   ]
  },
  {
   "cell_type": "markdown",
   "metadata": {},
   "source": [
    "- You can checkout and track this branch with"
   ]
  },
  {
   "cell_type": "raw",
   "metadata": {},
   "source": [
    "git checkout -t name1/dilli"
   ]
  },
  {
   "cell_type": "markdown",
   "metadata": {},
   "source": [
    "- If you want to put a copy of it on your repository"
   ]
  },
  {
   "cell_type": "raw",
   "metadata": {},
   "source": [
    "git push -u origin development"
   ]
  },
  {
   "cell_type": "markdown",
   "metadata": {},
   "source": [
    "11. If a remote that you want to stay synced with changes (note that if you want to sync with a branch other than 'master', simply replace 'master' with that branch name):"
   ]
  },
  {
   "cell_type": "markdown",
   "metadata": {},
   "source": [
    "- Switch back to your master"
   ]
  },
  {
   "cell_type": "raw",
   "metadata": {},
   "source": [
    "git checkout master"
   ]
  },
  {
   "cell_type": "markdown",
   "metadata": {},
   "source": [
    "- Grab the new remote master"
   ]
  },
  {
   "cell_type": "raw",
   "metadata": {},
   "source": [
    "git pull name1 master"
   ]
  },
  {
   "cell_type": "markdown",
   "metadata": {},
   "source": [
    "- Sync your repository"
   ]
  },
  {
   "cell_type": "raw",
   "metadata": {},
   "source": [
    "git push origin master"
   ]
  },
  {
   "cell_type": "markdown",
   "metadata": {},
   "source": [
    "- Switch back to your working branch smind"
   ]
  },
  {
   "cell_type": "raw",
   "metadata": {},
   "source": [
    "git checkout smind"
   ]
  },
  {
   "cell_type": "markdown",
   "metadata": {},
   "source": [
    "- Add your personal work commits on top of the new master"
   ]
  },
  {
   "cell_type": "raw",
   "metadata": {},
   "source": [
    "git rebase master"
   ]
  },
  {
   "cell_type": "markdown",
   "metadata": {},
   "source": [
    "- Sync your repository"
   ]
  },
  {
   "cell_type": "raw",
   "metadata": {},
   "source": [
    "git push -f origin work"
   ]
  },
  {
   "cell_type": "markdown",
   "metadata": {},
   "source": [
    "(Unfortunately this requires the 'force' option, since the order of commits changed)"
   ]
  },
  {
   "cell_type": "markdown",
   "metadata": {},
   "source": [
    "11. If you change something that should be pushed to name1:"
   ]
  },
  {
   "cell_type": "markdown",
   "metadata": {},
   "source": [
    "- Switch back to your master"
   ]
  },
  {
   "cell_type": "raw",
   "metadata": {},
   "source": [
    "git checkout master"
   ]
  },
  {
   "cell_type": "markdown",
   "metadata": {},
   "source": [
    "- Make sure your master is caught up to the name1 master (and your remote master)"
   ]
  },
  {
   "cell_type": "raw",
   "metadata": {},
   "source": [
    "git fetch --all"
   ]
  },
  {
   "cell_type": "markdown",
   "metadata": {},
   "source": [
    "- If needed grab the new remote master"
   ]
  },
  {
   "cell_type": "raw",
   "metadata": {},
   "source": [
    "git pull a2dev master"
   ]
  },
  {
   "cell_type": "markdown",
   "metadata": {},
   "source": [
    "- Add your commit to the master"
   ]
  },
  {
   "cell_type": "raw",
   "metadata": {},
   "source": [
    "gitk --all"
   ]
  },
  {
   "cell_type": "markdown",
   "metadata": {},
   "source": [
    "(then in the GUI you can right click on the commit you want to add and select 'Cherry-pick commit')"
   ]
  },
  {
   "cell_type": "markdown",
   "metadata": {},
   "source": [
    "- Push it to the remote"
   ]
  },
  {
   "cell_type": "raw",
   "metadata": {},
   "source": [
    "git push name1 master"
   ]
  },
  {
   "cell_type": "markdown",
   "metadata": {},
   "source": [
    "- Sync your repository"
   ]
  },
  {
   "cell_type": "raw",
   "metadata": {},
   "source": [
    "git push origin master"
   ]
  },
  {
   "cell_type": "markdown",
   "metadata": {},
   "source": [
    "- Switch back to your working branch"
   ]
  },
  {
   "cell_type": "raw",
   "metadata": {},
   "source": [
    "git checkout smind"
   ]
  },
  {
   "cell_type": "markdown",
   "metadata": {},
   "source": [
    "- Add your personal work commits on top of the new master"
   ]
  },
  {
   "cell_type": "raw",
   "metadata": {},
   "source": [
    "git rebase master"
   ]
  },
  {
   "cell_type": "markdown",
   "metadata": {},
   "source": [
    "- Sync your repository"
   ]
  },
  {
   "cell_type": "raw",
   "metadata": {},
   "source": [
    "git push -f origin work"
   ]
  },
  {
   "cell_type": "markdown",
   "metadata": {},
   "source": [
    "(Unfortunately this requires the 'force' option, since the order of commits changed)\n",
    "\n"
   ]
  },
  {
   "cell_type": "markdown",
   "metadata": {},
   "source": [
    "13. General remark: Usage of rebase instead of merging (like git merge or git pull) FIXME"
   ]
  },
  {
   "cell_type": "markdown",
   "metadata": {},
   "source": [
    "- Let's say you added new remote branches and fetched them or simply want to add the latest changes. To keep your commit history clean and straightforward, it is highly recommended to rebase (instead of using merge) your work on top of the other:"
   ]
  },
  {
   "cell_type": "raw",
   "metadata": {},
   "source": [
    "git rebase repository_name/branch_name"
   ]
  },
  {
   "cell_type": "code",
   "execution_count": null,
   "metadata": {},
   "outputs": [],
   "source": []
  }
 ],
 "metadata": {
  "kernelspec": {
   "display_name": "Python 3",
   "language": "python",
   "name": "python3"
  },
  "language_info": {
   "codemirror_mode": {
    "name": "ipython",
    "version": 3
   },
   "file_extension": ".py",
   "mimetype": "text/x-python",
   "name": "python",
   "nbconvert_exporter": "python",
   "pygments_lexer": "ipython3",
   "version": "3.8.2"
  }
 },
 "nbformat": 4,
 "nbformat_minor": 4
}
